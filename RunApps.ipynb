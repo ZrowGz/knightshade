{
 "cells": [
  {
   "cell_type": "markdown",
   "id": "901c9abb-f67b-47ff-91cb-648dcc2d1b0d",
   "metadata": {},
   "source": [
    "# The App to Run them ALL\n",
    "---\n",
    "From within this file, you can run each component for a finalized presentation.  \n",
    "**USE CAUTION WHEN RUNNING THE SCRAPING APP!!**"
   ]
  },
  {
   "cell_type": "code",
   "execution_count": 9,
   "id": "9961e377-87ba-44e4-b524-382996802d00",
   "metadata": {},
   "outputs": [],
   "source": [
    "# import the required libraries\n",
    "import pandas as pd\n",
    "from dotenv import load_dotenv\n",
    "from pathlib import Path\n",
    "import csv\n",
    "import os\n",
    "import quandl"
   ]
  },
  {
   "cell_type": "markdown",
   "id": "7a35a3f3-b6a2-4a62-83d7-419f7a7cfd1d",
   "metadata": {},
   "source": [
    "### Run the Twitter Scraper\n",
    "**RUN ONLY ONE CELL TO GET DATA**\n",
    "Refer to the README for explainations, the recommended method is to run Tweet\n",
    "This can be done if you do not have data files, or if you wish to find new data.\n",
    "This will:\n",
    "- enter the search parameters desired\n",
    "- run snscrape as a module\n",
    "- collect the tweet data as a list \n",
    "- convert tweet data to a dataframe\n",
    "- export the raw data as a .csv file"
   ]
  },
  {
   "cell_type": "code",
   "execution_count": 8,
   "id": "18be1ab6-1d75-490e-84c6-5136dea83297",
   "metadata": {},
   "outputs": [],
   "source": [
    "# If you run the FIRST ONE below, skip the following two.\n",
    "# Alternatively, you can run `TweetScraperQuest.py` from the command line for more efficient scraping!"
   ]
  },
  {
   "cell_type": "code",
   "execution_count": null,
   "id": "7695da1d-a2bc-4d46-ad4f-74b58efd4c0c",
   "metadata": {},
   "outputs": [],
   "source": [
    "# Scrape Twitter for up to 2,000 tweets for each bitcoin and litecoin hashtags\n",
    "%run modules/tweetReader.ipynb"
   ]
  },
  {
   "cell_type": "code",
   "execution_count": null,
   "id": "434f43d6-21f1-4b43-ba5e-608729218049",
   "metadata": {},
   "outputs": [],
   "source": [
    "# OR Run BOTH of the following "
   ]
  },
  {
   "cell_type": "code",
   "execution_count": null,
   "id": "02a32863-50ab-41c9-89dd-45c00333dd95",
   "metadata": {},
   "outputs": [],
   "source": [
    "####### MAYBE WE SHOULD DO AWAY WITH THESE????\n",
    "\n",
    "# Scrape Twitter using .py app for #Litecoin, up to 2,000 tweets\n",
    "%run modules/TweetScraper_LTC_Jupyter.py "
   ]
  },
  {
   "cell_type": "code",
   "execution_count": null,
   "id": "6ee09557-5721-467e-a942-5ae7ac917a28",
   "metadata": {},
   "outputs": [],
   "source": [
    "# Scrape Twitter using .py app for #Bitcoin, up to 2,000 tweets\n",
    "%run modules/TweetScraper_BTC_Jupyter.py"
   ]
  },
  {
   "cell_type": "markdown",
   "id": "64811e37-82eb-4678-a2f0-07f97f3007f9",
   "metadata": {},
   "source": [
    "### Obtain Price History Data\n",
    "This obtains price history and outputs it as csv files for bitcoin and litecoin.  \n",
    "You will need your own Quandl API Key saved in the directory (see README)"
   ]
  },
  {
   "cell_type": "code",
   "execution_count": null,
   "id": "29ba4574-3654-4f7b-9479-16b2559464d4",
   "metadata": {},
   "outputs": [],
   "source": [
    "# Collect Price Data and create .csv files\n",
    "%run modules/bitcoinLitecoinLastPrice.ipynb"
   ]
  },
  {
   "cell_type": "markdown",
   "id": "3e7df75d-9d4a-45fb-8264-041f630e69be",
   "metadata": {},
   "source": [
    "### Process the .csv Data Files\n",
    "This is used to process the .csv files obtained in the above step. If you are using available files, this can be bypassed.  \n",
    "This will:\n",
    "- read in the .csv files, establishing headers\n",
    "- reformat the data and correct the way some of it is displayed\n",
    "- correct incompatible data types\n",
    "- combine the data into a single dataframe\n",
    "- export this as a new .csv file"
   ]
  },
  {
   "cell_type": "code",
   "execution_count": null,
   "id": "9019cf7b-0758-4936-8909-4a5cb243e37e",
   "metadata": {},
   "outputs": [
    {
     "name": "stdout",
     "output_type": "stream",
     "text": [
      "BTC 2021 data:\n"
     ]
    },
    {
     "data": {
      "text/html": [
       "<div>\n",
       "<style scoped>\n",
       "    .dataframe tbody tr th:only-of-type {\n",
       "        vertical-align: middle;\n",
       "    }\n",
       "\n",
       "    .dataframe tbody tr th {\n",
       "        vertical-align: top;\n",
       "    }\n",
       "\n",
       "    .dataframe thead th {\n",
       "        text-align: right;\n",
       "    }\n",
       "</style>\n",
       "<table border=\"1\" class=\"dataframe\">\n",
       "  <thead>\n",
       "    <tr style=\"text-align: right;\">\n",
       "      <th></th>\n",
       "      <th>Datetime</th>\n",
       "      <th>TweetID</th>\n",
       "      <th>Replies</th>\n",
       "      <th>Likes</th>\n",
       "      <th>Retweets</th>\n",
       "      <th>Hashtags</th>\n",
       "      <th>Tweets</th>\n",
       "    </tr>\n",
       "  </thead>\n",
       "  <tbody>\n",
       "    <tr>\n",
       "      <th>9748225</th>\n",
       "      <td>2021-01-01 00:00:02+00:00</td>\n",
       "      <td>1344795480430149633</td>\n",
       "      <td>0</td>\n",
       "      <td>0</td>\n",
       "      <td>0</td>\n",
       "      <td>['bitcoin', 'bunnies']</td>\n",
       "      <td>1</td>\n",
       "    </tr>\n",
       "    <tr>\n",
       "      <th>9748226</th>\n",
       "      <td>2021-01-01 00:00:01+00:00</td>\n",
       "      <td>1344795479071215617</td>\n",
       "      <td>0</td>\n",
       "      <td>0</td>\n",
       "      <td>0</td>\n",
       "      <td>['criptomoedas', 'bitcoin', 'investimento', 'd...</td>\n",
       "      <td>1</td>\n",
       "    </tr>\n",
       "    <tr>\n",
       "      <th>9748227</th>\n",
       "      <td>2021-01-01 00:00:01+00:00</td>\n",
       "      <td>1344795478660173824</td>\n",
       "      <td>0</td>\n",
       "      <td>0</td>\n",
       "      <td>0</td>\n",
       "      <td>['bitcoin', 'CarbonaraIndex']</td>\n",
       "      <td>1</td>\n",
       "    </tr>\n",
       "  </tbody>\n",
       "</table>\n",
       "</div>"
      ],
      "text/plain": [
       "                          Datetime              TweetID  Replies  Likes  \\\n",
       "9748225  2021-01-01 00:00:02+00:00  1344795480430149633        0      0   \n",
       "9748226  2021-01-01 00:00:01+00:00  1344795479071215617        0      0   \n",
       "9748227  2021-01-01 00:00:01+00:00  1344795478660173824        0      0   \n",
       "\n",
       "         Retweets                                           Hashtags  Tweets  \n",
       "9748225         0                             ['bitcoin', 'bunnies']       1  \n",
       "9748226         0  ['criptomoedas', 'bitcoin', 'investimento', 'd...       1  \n",
       "9748227         0                      ['bitcoin', 'CarbonaraIndex']       1  "
      ]
     },
     "metadata": {},
     "output_type": "display_data"
    }
   ],
   "source": [
    "# Process data files.\n",
    "%run modules/csvProcessor.ipynb"
   ]
  },
  {
   "cell_type": "markdown",
   "id": "f0488775-4995-4f2a-b088-c876dbe48c35",
   "metadata": {},
   "source": [
    "### Process the Data\n",
    "This step will run the operations to calculate comparable data for price history and tweet statistics."
   ]
  },
  {
   "cell_type": "code",
   "execution_count": null,
   "id": "4f93f427-5293-4f2d-bfb7-580bb6c1da95",
   "metadata": {},
   "outputs": [],
   "source": [
    "# Run the processing and calculations\n",
    "%run modules/dataProcessing.ipynb"
   ]
  },
  {
   "cell_type": "markdown",
   "id": "7fe38425-8f2d-49a7-b322-140642a95392",
   "metadata": {},
   "source": [
    "### Run The Visualizations"
   ]
  },
  {
   "cell_type": "code",
   "execution_count": null,
   "id": "992840d6-fc1c-457d-933a-8dc57064bf4b",
   "metadata": {},
   "outputs": [],
   "source": [
    "%run modules/tweetAnalysis.ipynb"
   ]
  },
  {
   "cell_type": "markdown",
   "id": "76b35029-4500-4383-ac32-ebc5c16327fa",
   "metadata": {},
   "source": [
    "### Display Analysis"
   ]
  },
  {
   "cell_type": "code",
   "execution_count": null,
   "id": "59352e20-6360-4936-a8f8-0d9280abfb0f",
   "metadata": {},
   "outputs": [],
   "source": [
    "%run modules/analysis.md"
   ]
  }
 ],
 "metadata": {
  "kernelspec": {
   "display_name": "py38",
   "language": "python",
   "name": "py38"
  },
  "language_info": {
   "codemirror_mode": {
    "name": "ipython",
    "version": 3
   },
   "file_extension": ".py",
   "mimetype": "text/x-python",
   "name": "python",
   "nbconvert_exporter": "python",
   "pygments_lexer": "ipython3",
   "version": "3.8.11"
  }
 },
 "nbformat": 4,
 "nbformat_minor": 5
}
