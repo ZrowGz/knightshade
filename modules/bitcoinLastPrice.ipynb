{
 "cells": [
  {
   "cell_type": "markdown",
   "id": "7f014751-7fb5-4e3d-ad4b-7e676b7cc2f5",
   "metadata": {},
   "source": [
    "# Getting the 'Last' daily price for Crypto currencies to USD\n",
    "\n",
    "Quandl Bitfinex\n",
    "\n",
    "https://data.nasdaq.com/data/BITFINEX-bitfinex\n",
    "\n",
    "DESCRIPTION\n",
    "Bitfinex is a trading platform for **Bitcoin**, **Litecoin** and **Darkcoin** with many advanced features including margin trading, exchange and peer to peer margin funding."
   ]
  },
  {
   "cell_type": "code",
   "execution_count": 15,
   "id": "5fd4d187-1969-4fae-a0c2-d509a0c82bb2",
   "metadata": {},
   "outputs": [],
   "source": [
    "# Import required libraries and dependencies\n",
    "import os\n",
    "from dotenv import load_dotenv\n",
    "import quandl\n",
    "import pandas as pd"
   ]
  },
  {
   "cell_type": "code",
   "execution_count": 16,
   "id": "359dd5b7-dad6-4964-a473-e89774911834",
   "metadata": {},
   "outputs": [],
   "source": [
    "# Define the output filepath for the data\n",
    "\n",
    "# Disabled for running from main app\n",
    "bitcoin_savepath = '../data/bitcoin_prices.csv'"
   ]
  },
  {
   "cell_type": "code",
   "execution_count": 17,
   "id": "757fb58f-df74-4f2e-925e-fd6c5dc8fa03",
   "metadata": {},
   "outputs": [],
   "source": [
    "# Load .env enviroment variables into the notebook\n",
    "load_dotenv()\n",
    "# Get the API key from the environment variable and store as Python variable\n",
    "quandl_api_key = os.getenv(\"QUANDL_API_KEY\")"
   ]
  },
  {
   "cell_type": "code",
   "execution_count": 18,
   "id": "a637c400-99a1-4f70-990f-b8d66af5e382",
   "metadata": {},
   "outputs": [
    {
     "data": {
      "text/html": [
       "<div>\n",
       "<style scoped>\n",
       "    .dataframe tbody tr th:only-of-type {\n",
       "        vertical-align: middle;\n",
       "    }\n",
       "\n",
       "    .dataframe tbody tr th {\n",
       "        vertical-align: top;\n",
       "    }\n",
       "\n",
       "    .dataframe thead th {\n",
       "        text-align: right;\n",
       "    }\n",
       "</style>\n",
       "<table border=\"1\" class=\"dataframe\">\n",
       "  <thead>\n",
       "    <tr style=\"text-align: right;\">\n",
       "      <th></th>\n",
       "      <th>High</th>\n",
       "      <th>Low</th>\n",
       "      <th>Mid</th>\n",
       "      <th>Last</th>\n",
       "      <th>Bid</th>\n",
       "      <th>Ask</th>\n",
       "      <th>Volume</th>\n",
       "    </tr>\n",
       "    <tr>\n",
       "      <th>Date</th>\n",
       "      <th></th>\n",
       "      <th></th>\n",
       "      <th></th>\n",
       "      <th></th>\n",
       "      <th></th>\n",
       "      <th></th>\n",
       "      <th></th>\n",
       "    </tr>\n",
       "  </thead>\n",
       "  <tbody>\n",
       "    <tr>\n",
       "      <th>2020-01-01</th>\n",
       "      <td>7285.1</td>\n",
       "      <td>7185.4</td>\n",
       "      <td>7213.05</td>\n",
       "      <td>7213.1</td>\n",
       "      <td>7213.0</td>\n",
       "      <td>7213.1</td>\n",
       "      <td>2045.343527</td>\n",
       "    </tr>\n",
       "    <tr>\n",
       "      <th>2020-01-02</th>\n",
       "      <td>7225.8</td>\n",
       "      <td>6963.0</td>\n",
       "      <td>6989.45</td>\n",
       "      <td>6989.5</td>\n",
       "      <td>6989.4</td>\n",
       "      <td>6989.5</td>\n",
       "      <td>4848.085330</td>\n",
       "    </tr>\n",
       "    <tr>\n",
       "      <th>2020-01-03</th>\n",
       "      <td>7444.9</td>\n",
       "      <td>6909.3</td>\n",
       "      <td>7356.95</td>\n",
       "      <td>7356.9</td>\n",
       "      <td>7356.9</td>\n",
       "      <td>7357.0</td>\n",
       "      <td>6653.414357</td>\n",
       "    </tr>\n",
       "  </tbody>\n",
       "</table>\n",
       "</div>"
      ],
      "text/plain": [
       "              High     Low      Mid    Last     Bid     Ask       Volume\n",
       "Date                                                                    \n",
       "2020-01-01  7285.1  7185.4  7213.05  7213.1  7213.0  7213.1  2045.343527\n",
       "2020-01-02  7225.8  6963.0  6989.45  6989.5  6989.4  6989.5  4848.085330\n",
       "2020-01-03  7444.9  6909.3  7356.95  7356.9  7356.9  7357.0  6653.414357"
      ]
     },
     "metadata": {},
     "output_type": "display_data"
    },
    {
     "data": {
      "text/html": [
       "<div>\n",
       "<style scoped>\n",
       "    .dataframe tbody tr th:only-of-type {\n",
       "        vertical-align: middle;\n",
       "    }\n",
       "\n",
       "    .dataframe tbody tr th {\n",
       "        vertical-align: top;\n",
       "    }\n",
       "\n",
       "    .dataframe thead th {\n",
       "        text-align: right;\n",
       "    }\n",
       "</style>\n",
       "<table border=\"1\" class=\"dataframe\">\n",
       "  <thead>\n",
       "    <tr style=\"text-align: right;\">\n",
       "      <th></th>\n",
       "      <th>High</th>\n",
       "      <th>Low</th>\n",
       "      <th>Mid</th>\n",
       "      <th>Last</th>\n",
       "      <th>Bid</th>\n",
       "      <th>Ask</th>\n",
       "      <th>Volume</th>\n",
       "    </tr>\n",
       "    <tr>\n",
       "      <th>Date</th>\n",
       "      <th></th>\n",
       "      <th></th>\n",
       "      <th></th>\n",
       "      <th></th>\n",
       "      <th></th>\n",
       "      <th></th>\n",
       "      <th></th>\n",
       "    </tr>\n",
       "  </thead>\n",
       "  <tbody>\n",
       "    <tr>\n",
       "      <th>2021-09-28</th>\n",
       "      <td>43249.0</td>\n",
       "      <td>41158.0</td>\n",
       "      <td>41735.0</td>\n",
       "      <td>41730.000000</td>\n",
       "      <td>41733.0</td>\n",
       "      <td>41737.0</td>\n",
       "      <td>5509.991062</td>\n",
       "    </tr>\n",
       "    <tr>\n",
       "      <th>2021-09-29</th>\n",
       "      <td>42606.0</td>\n",
       "      <td>40804.0</td>\n",
       "      <td>41396.5</td>\n",
       "      <td>41400.846149</td>\n",
       "      <td>41394.0</td>\n",
       "      <td>41399.0</td>\n",
       "      <td>5259.994272</td>\n",
       "    </tr>\n",
       "    <tr>\n",
       "      <th>2021-09-30</th>\n",
       "      <td>44122.0</td>\n",
       "      <td>41189.0</td>\n",
       "      <td>43728.0</td>\n",
       "      <td>43729.000000</td>\n",
       "      <td>43726.0</td>\n",
       "      <td>43730.0</td>\n",
       "      <td>5161.574149</td>\n",
       "    </tr>\n",
       "  </tbody>\n",
       "</table>\n",
       "</div>"
      ],
      "text/plain": [
       "               High      Low      Mid          Last      Bid      Ask  \\\n",
       "Date                                                                    \n",
       "2021-09-28  43249.0  41158.0  41735.0  41730.000000  41733.0  41737.0   \n",
       "2021-09-29  42606.0  40804.0  41396.5  41400.846149  41394.0  41399.0   \n",
       "2021-09-30  44122.0  41189.0  43728.0  43729.000000  43726.0  43730.0   \n",
       "\n",
       "                 Volume  \n",
       "Date                     \n",
       "2021-09-28  5509.991062  \n",
       "2021-09-29  5259.994272  \n",
       "2021-09-30  5161.574149  "
      ]
     },
     "metadata": {},
     "output_type": "display_data"
    }
   ],
   "source": [
    "# Create `start_date` and `end_date` variables\n",
    "start_date = '2020-01-01'\n",
    "end_date = '2021-09-30'\n",
    "\n",
    "# Get prices from the API\n",
    "bitcoin = quandl.get(\"BITFINEX/BTCUSD\", start_date=start_date, end_date=end_date)\n",
    "\n",
    "# Display the output\n",
    "display(bitcoin.head(3))\n",
    "display(bitcoin.tail(3))"
   ]
  },
  {
   "cell_type": "code",
   "execution_count": 23,
   "id": "0cb0cfed-b3d8-4a14-9c36-dfa95ab85a03",
   "metadata": {},
   "outputs": [
    {
     "data": {
      "text/html": [
       "<div>\n",
       "<style scoped>\n",
       "    .dataframe tbody tr th:only-of-type {\n",
       "        vertical-align: middle;\n",
       "    }\n",
       "\n",
       "    .dataframe tbody tr th {\n",
       "        vertical-align: top;\n",
       "    }\n",
       "\n",
       "    .dataframe thead th {\n",
       "        text-align: right;\n",
       "    }\n",
       "</style>\n",
       "<table border=\"1\" class=\"dataframe\">\n",
       "  <thead>\n",
       "    <tr style=\"text-align: right;\">\n",
       "      <th></th>\n",
       "      <th>Price (USD)</th>\n",
       "    </tr>\n",
       "    <tr>\n",
       "      <th>Date</th>\n",
       "      <th></th>\n",
       "    </tr>\n",
       "  </thead>\n",
       "  <tbody>\n",
       "    <tr>\n",
       "      <th>2020-01-01</th>\n",
       "      <td>7213.1</td>\n",
       "    </tr>\n",
       "    <tr>\n",
       "      <th>2020-01-02</th>\n",
       "      <td>6989.5</td>\n",
       "    </tr>\n",
       "    <tr>\n",
       "      <th>2020-01-03</th>\n",
       "      <td>7356.9</td>\n",
       "    </tr>\n",
       "  </tbody>\n",
       "</table>\n",
       "</div>"
      ],
      "text/plain": [
       "            Price (USD)\n",
       "Date                   \n",
       "2020-01-01       7213.1\n",
       "2020-01-02       6989.5\n",
       "2020-01-03       7356.9"
      ]
     },
     "metadata": {},
     "output_type": "display_data"
    },
    {
     "data": {
      "text/html": [
       "<div>\n",
       "<style scoped>\n",
       "    .dataframe tbody tr th:only-of-type {\n",
       "        vertical-align: middle;\n",
       "    }\n",
       "\n",
       "    .dataframe tbody tr th {\n",
       "        vertical-align: top;\n",
       "    }\n",
       "\n",
       "    .dataframe thead th {\n",
       "        text-align: right;\n",
       "    }\n",
       "</style>\n",
       "<table border=\"1\" class=\"dataframe\">\n",
       "  <thead>\n",
       "    <tr style=\"text-align: right;\">\n",
       "      <th></th>\n",
       "      <th>Price (USD)</th>\n",
       "    </tr>\n",
       "    <tr>\n",
       "      <th>Date</th>\n",
       "      <th></th>\n",
       "    </tr>\n",
       "  </thead>\n",
       "  <tbody>\n",
       "    <tr>\n",
       "      <th>2021-09-28</th>\n",
       "      <td>41730.000000</td>\n",
       "    </tr>\n",
       "    <tr>\n",
       "      <th>2021-09-29</th>\n",
       "      <td>41400.846149</td>\n",
       "    </tr>\n",
       "    <tr>\n",
       "      <th>2021-09-30</th>\n",
       "      <td>43729.000000</td>\n",
       "    </tr>\n",
       "  </tbody>\n",
       "</table>\n",
       "</div>"
      ],
      "text/plain": [
       "             Price (USD)\n",
       "Date                    \n",
       "2021-09-28  41730.000000\n",
       "2021-09-29  41400.846149\n",
       "2021-09-30  43729.000000"
      ]
     },
     "metadata": {},
     "output_type": "display_data"
    }
   ],
   "source": [
    "# Rename the \"Last\" column\n",
    "bitcoin['Price (USD)'] = bitcoin['Last']\n",
    "\n",
    "# Drop unneeded columns\n",
    "bitcoin_last = bitcoin[['Price (USD)']]\n",
    "\n",
    "# Display the refined price data\n",
    "display(bitcoin_last.head(3))\n",
    "display(bitcoin_last.tail(3))"
   ]
  },
  {
   "cell_type": "code",
   "execution_count": 20,
   "id": "8b188abd-be03-43f4-aa02-a7b64d827602",
   "metadata": {},
   "outputs": [],
   "source": [
    "# Write the dataframes to a .csv file\n",
    "bitcoin_last.to_csv(bitcoin_savepath)"
   ]
  },
  {
   "cell_type": "markdown",
   "id": "e19639ec-eb82-4ed2-babb-f80661896ec3",
   "metadata": {},
   "source": [
    "### Notify the user that price data has been obtained"
   ]
  },
  {
   "cell_type": "code",
   "execution_count": 21,
   "id": "be0f77c9-312d-4b77-bb64-3b4894c3b244",
   "metadata": {},
   "outputs": [
    {
     "name": "stdout",
     "output_type": "stream",
     "text": [
      "Price data obtained, this process is COMPLETE!\n"
     ]
    }
   ],
   "source": [
    "print('Price data obtained, this process is COMPLETE!')"
   ]
  },
  {
   "cell_type": "code",
   "execution_count": null,
   "id": "8746c189-e740-401f-b7e6-9aaf7c493b7e",
   "metadata": {},
   "outputs": [],
   "source": []
  }
 ],
 "metadata": {
  "kernelspec": {
   "display_name": "py38",
   "language": "python",
   "name": "py38"
  },
  "language_info": {
   "codemirror_mode": {
    "name": "ipython",
    "version": 3
   },
   "file_extension": ".py",
   "mimetype": "text/x-python",
   "name": "python",
   "nbconvert_exporter": "python",
   "pygments_lexer": "ipython3",
   "version": "3.8.11"
  }
 },
 "nbformat": 4,
 "nbformat_minor": 5
}
