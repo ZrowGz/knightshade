{
 "cells": [
  {
   "cell_type": "markdown",
   "id": "3794ae2e-8d4f-4f2e-a593-21fd8df5e83f",
   "metadata": {},
   "source": [
    "# Scrape twitter from within Jupyter Notebooks\n",
    "**Refer to the README: Run small tweet scrapes from here, or run stable from the app discussed in the readme.**  \n",
    "\n",
    "---\n",
    "This can be a time consuming process and system instability may ocurr.  \n",
    "For scraping significant amounts of tweet data, please refer to the README file and utilize a CLI based python app, which may need multiple instances running in parallel, as the kernel in Notebooks only allows a single instance running at a time.\n",
    "\n",
    "---\n",
    "This will scrape twitter for up to 25,000 tweets for each Litecoin and Bitcoin hashtags during the date range 2021-10-01 back to 2021-01-01, but *will not capture all of that time range with only 25k tweets!*"
   ]
  },
  {
   "cell_type": "code",
   "execution_count": null,
   "id": "6282684a-da71-4ad4-bd8b-61b3c752a0be",
   "metadata": {},
   "outputs": [],
   "source": [
    "# Import the required libraries\n",
    "import snscrape.modules.twitter as sntwitter\n",
    "from pathlib import Path\n",
    "import csv"
   ]
  },
  {
   "cell_type": "code",
   "execution_count": null,
   "id": "3ef790e9-4b40-4baa-8ab1-b94c056418ff",
   "metadata": {},
   "outputs": [],
   "source": [
    "# Define the search parameters for your scraping event\n",
    "maxTweets = 25000"
   ]
  },
  {
   "cell_type": "markdown",
   "id": "619e9d36-5baa-4376-9239-125b89df81e9",
   "metadata": {},
   "source": [
    "## Litecoin Hashtags - Twitter\n",
    "For estimate on size of files, #Litecoin returned approx. 197,000 results during January - September 2021, for a file size of about 580MB, with only the three attributes returned below. This took approximately 6 hours, so choose how you do this wisely."
   ]
  },
  {
   "cell_type": "code",
   "execution_count": null,
   "id": "cf9644e1-0ae5-4f1b-9bf6-cf208635bae1",
   "metadata": {},
   "outputs": [],
   "source": [
    "# Using TwitterSearchScraper to scrape data and append tweets to list\n",
    "\n",
    "# Create empty list to store the tweets\n",
    "ltc_tweets_list = []\n",
    "\n",
    "# Scrape the tweets\n",
    "for i,tweet in enumerate(sntwitter.TwitterHashtagScraper('litecoin since:2021-01-01 until:2021-10-01').get_items()):\n",
    "    if i>maxTweets:\n",
    "        break\n",
    "    ltc_tweets_list.append([tweet.date, tweet.hashtags, tweet.likeCount, 1])"
   ]
  },
  {
   "cell_type": "code",
   "execution_count": null,
   "id": "a368f84b-a83b-472c-95b1-af75c6189bc4",
   "metadata": {},
   "outputs": [],
   "source": [
    "# Creating a dataframe from the tweets list above\n",
    "ltc_tweets_df = pd.DataFrame(ltc_tweets_list, columns=['Datetime', 'Hashtags', 'Likes', 'Tweets'])\n",
    "\t\n",
    "# Reformat the 'Datetime' to date time format\n",
    "ltc_tweets_df['Datetime'] = pd.to_datetime(ltc_tweets_df['Datetime'])\n",
    "\n",
    "# Set the index to 'Datetime'\n",
    "#tweets_df = tweets_df.set_index('Date')\n",
    "\n",
    "# Display first 5 entries from dataframe\n",
    "ltc_tweets_df"
   ]
  },
  {
   "cell_type": "code",
   "execution_count": null,
   "id": "fb2a292c-232c-4819-9fb5-8bdde1f09d83",
   "metadata": {},
   "outputs": [],
   "source": [
    "# Export dataframe into a CSV\n",
    "ltc_tweets_df.to_csv('../data/ltc_tweets_2021-01-01_to_2021-10-01.csv', sep=',', index=False)"
   ]
  },
  {
   "cell_type": "code",
   "execution_count": null,
   "id": "a2adc9d3-de55-4f73-bf1e-96bbd560dd47",
   "metadata": {},
   "outputs": [],
   "source": [
    "#daily_tweets = ltc_tweets_df.groupby(pd.Grouper(key='Datetime',freq='D')).sum()\n",
    "\n",
    "#daily_tweets[\"Datetime\"] = pd.DatetimeIndex(daily_tweets['Datetime']).normalize()\n",
    "#daily_likes = \n",
    "#display(daily_tweets)"
   ]
  },
  {
   "cell_type": "markdown",
   "id": "aa3f82d5-3246-438e-b06a-362611c58fb2",
   "metadata": {},
   "source": [
    "## Bitcoin Hashtags - Twitter\n",
    "Be careful about how you return this. Using this notebook for any significant time frame will cause system instability and potentially loss of data. Jan-Sept 2021 yields just under 10 Million tweets. If you select all tweet attributes, the resulting file(s) required approx 25GB and no app could open the data. Notebooks crashed after 20 hours of running, since it only manages one process at a time, this was likely only around 1 month of data at that point. Refer to the README for how to utilize the CLI based alternatives."
   ]
  },
  {
   "cell_type": "code",
   "execution_count": null,
   "id": "f0f1afdc-1dfb-4a90-b958-3c040340aa3e",
   "metadata": {},
   "outputs": [],
   "source": [
    "# Create empty list to store the tweets\n",
    "btc_tweets_list = []\n",
    "\n",
    "# Scrape the tweets\n",
    "for i,tweet in enumerate(sntwitter.TwitterHashtagScraper('bitcoin since:2021-01-01 until:2021-10-01').get_items()):\n",
    "    if i>maxTweets:\n",
    "        break\n",
    "    btc_tweets_list.append([tweet.date, tweet.hashtags, tweet.likeCount, 1])"
   ]
  },
  {
   "cell_type": "code",
   "execution_count": null,
   "id": "c64ac6a0-22f5-4839-bea4-febd698cda5b",
   "metadata": {},
   "outputs": [],
   "source": [
    "# Creating a dataframe from the tweets list above\n",
    "btc_tweets_df = pd.DataFrame(btc_tweets_list, columns=['Datetime', 'Hashtags', 'Likes', 'Tweets'])\n",
    "\n",
    "# Reformat the 'Datetime' to date time format\n",
    "btc_tweets_df['Datetime'] = pd.to_datetime(btc_tweets_df['Datetime'])\n",
    "\n",
    "# Set the index to 'Datetime'\n",
    "#tweets_df = tweets_df.set_index('Date')\n",
    "\n",
    "# Display first 5 entries from dataframe\n",
    "btc_tweets_df"
   ]
  },
  {
   "cell_type": "code",
   "execution_count": null,
   "id": "34fb9bad-a59d-4953-a17e-73f03415f671",
   "metadata": {},
   "outputs": [],
   "source": [
    "# Export dataframe into a CSV\n",
    "btc_tweets_df.to_csv('../data/btc_tweets_2021-01-01_to_2021-10-01.csv', sep=',', index=False)"
   ]
  },
  {
   "cell_type": "code",
   "execution_count": null,
   "id": "d6914afc-5bb8-4ad1-aa40-d9f60f8e0c3f",
   "metadata": {},
   "outputs": [],
   "source": []
  }
 ],
 "metadata": {
  "kernelspec": {
   "display_name": "py38",
   "language": "python",
   "name": "py38"
  },
  "language_info": {
   "codemirror_mode": {
    "name": "ipython",
    "version": 3
   },
   "file_extension": ".py",
   "mimetype": "text/x-python",
   "name": "python",
   "nbconvert_exporter": "python",
   "pygments_lexer": "ipython3",
   "version": "3.8.11"
  }
 },
 "nbformat": 4,
 "nbformat_minor": 5
}
