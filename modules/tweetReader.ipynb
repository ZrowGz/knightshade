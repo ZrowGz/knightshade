{
 "cells": [
  {
   "cell_type": "markdown",
   "id": "3794ae2e-8d4f-4f2e-a593-21fd8df5e83f",
   "metadata": {},
   "source": [
    "# Scrape twitter from within Jupyter Notebooks\n",
    "**Refer to the README: Run small tweet scrapes from here, or run stable from the app discussed in the readme.**  \n",
    "\n",
    "---\n",
    "This can be a time consuming process and system instability may ocurr.  \n",
    "For scraping significant amounts of tweet data, please refer to the README file and utilize a CLI based python app, which may need multiple instances running in parallel, as the kernel in Notebooks only allows a single instance running at a time.\n",
    "\n",
    "---\n",
    "This will scrape twitter for up to 500 tweets containing the Bitcoin hashtag during the date range 2021-10-01 back to 2021-01-01, but *will not capture all of that time range with only 500 tweets!*"
   ]
  },
  {
   "cell_type": "code",
   "execution_count": 1,
   "id": "6282684a-da71-4ad4-bd8b-61b3c752a0be",
   "metadata": {},
   "outputs": [],
   "source": [
    "# Import the required libraries\n",
    "import snscrape.modules.twitter as sntwitter\n",
    "from pathlib import Path\n",
    "import csv\n",
    "import pandas as pd"
   ]
  },
  {
   "cell_type": "code",
   "execution_count": 2,
   "id": "3ef790e9-4b40-4baa-8ab1-b94c056418ff",
   "metadata": {},
   "outputs": [],
   "source": [
    "# Define the search parameters for your scraping event\n",
    "maxTweets = 500"
   ]
  },
  {
   "cell_type": "code",
   "execution_count": 3,
   "id": "8ca0aebd-2e8e-4bca-8f24-4d1e38d4d1a4",
   "metadata": {},
   "outputs": [],
   "source": [
    "# Define the file paths for saving the data\n",
    "#btc_tweet_savepath = '../data/btc_tweets_2020-05-01_to_2021-10-01.csv'"
   ]
  },
  {
   "cell_type": "markdown",
   "id": "aa3f82d5-3246-438e-b06a-362611c58fb2",
   "metadata": {},
   "source": [
    "## Bitcoin Hashtags - Twitter\n",
    "Be careful about how you return this. Using this notebook for any significant time frame will cause system instability and potentially loss of data. Jan-Sept 2021 yields just under 10 Million tweets. If you select all tweet attributes, the resulting file(s) required approx 25GB and no app could open the data. Notebooks crashed after 20 hours of running, since it only manages one process at a time, this was likely only around 1 month of data at that point. Refer to the README for how to utilize the CLI based alternatives."
   ]
  },
  {
   "cell_type": "code",
   "execution_count": 4,
   "id": "f0f1afdc-1dfb-4a90-b958-3c040340aa3e",
   "metadata": {},
   "outputs": [],
   "source": [
    "# Create empty list to store the tweets\n",
    "btc_tweets_list = []\n",
    "\n",
    "# Scrape the tweets\n",
    "for i,tweet in enumerate(sntwitter.TwitterHashtagScraper('bitcoin since:2020-05-01 until:2021-10-01').get_items()):\n",
    "    if i>maxTweets:\n",
    "        break\n",
    "    btc_tweets_list.append([tweet.date, tweet.id, tweet.replyCount, tweet.retweetCount, tweet.likeCount, tweet.hashtags, 1])"
   ]
  },
  {
   "cell_type": "code",
   "execution_count": 5,
   "id": "c64ac6a0-22f5-4839-bea4-febd698cda5b",
   "metadata": {},
   "outputs": [
    {
     "data": {
      "text/html": [
       "<div>\n",
       "<style scoped>\n",
       "    .dataframe tbody tr th:only-of-type {\n",
       "        vertical-align: middle;\n",
       "    }\n",
       "\n",
       "    .dataframe tbody tr th {\n",
       "        vertical-align: top;\n",
       "    }\n",
       "\n",
       "    .dataframe thead th {\n",
       "        text-align: right;\n",
       "    }\n",
       "</style>\n",
       "<table border=\"1\" class=\"dataframe\">\n",
       "  <thead>\n",
       "    <tr style=\"text-align: right;\">\n",
       "      <th></th>\n",
       "      <th>Datetime</th>\n",
       "      <th>Tweet ID</th>\n",
       "      <th>Replies</th>\n",
       "      <th>Retweets</th>\n",
       "      <th>Likes</th>\n",
       "      <th>Hashtags</th>\n",
       "      <th>Tweets</th>\n",
       "    </tr>\n",
       "  </thead>\n",
       "  <tbody>\n",
       "    <tr>\n",
       "      <th>0</th>\n",
       "      <td>2021-09-30 23:59:56+00:00</td>\n",
       "      <td>1443727342644314125</td>\n",
       "      <td>0</td>\n",
       "      <td>0</td>\n",
       "      <td>0</td>\n",
       "      <td>[Bitcoin, BTC]</td>\n",
       "      <td>1</td>\n",
       "    </tr>\n",
       "    <tr>\n",
       "      <th>1</th>\n",
       "      <td>2021-09-30 23:59:56+00:00</td>\n",
       "      <td>1443727341973381121</td>\n",
       "      <td>0</td>\n",
       "      <td>0</td>\n",
       "      <td>0</td>\n",
       "      <td>[SingleIssueVoter, Bitcoin]</td>\n",
       "      <td>1</td>\n",
       "    </tr>\n",
       "    <tr>\n",
       "      <th>2</th>\n",
       "      <td>2021-09-30 23:59:55+00:00</td>\n",
       "      <td>1443727338169114633</td>\n",
       "      <td>0</td>\n",
       "      <td>0</td>\n",
       "      <td>0</td>\n",
       "      <td>[chinafud, bitcoin, cryptocurrency, crypto]</td>\n",
       "      <td>1</td>\n",
       "    </tr>\n",
       "  </tbody>\n",
       "</table>\n",
       "</div>"
      ],
      "text/plain": [
       "                   Datetime             Tweet ID  Replies  Retweets  Likes  \\\n",
       "0 2021-09-30 23:59:56+00:00  1443727342644314125        0         0      0   \n",
       "1 2021-09-30 23:59:56+00:00  1443727341973381121        0         0      0   \n",
       "2 2021-09-30 23:59:55+00:00  1443727338169114633        0         0      0   \n",
       "\n",
       "                                      Hashtags  Tweets  \n",
       "0                               [Bitcoin, BTC]       1  \n",
       "1                  [SingleIssueVoter, Bitcoin]       1  \n",
       "2  [chinafud, bitcoin, cryptocurrency, crypto]       1  "
      ]
     },
     "metadata": {},
     "output_type": "display_data"
    },
    {
     "data": {
      "text/html": [
       "<div>\n",
       "<style scoped>\n",
       "    .dataframe tbody tr th:only-of-type {\n",
       "        vertical-align: middle;\n",
       "    }\n",
       "\n",
       "    .dataframe tbody tr th {\n",
       "        vertical-align: top;\n",
       "    }\n",
       "\n",
       "    .dataframe thead th {\n",
       "        text-align: right;\n",
       "    }\n",
       "</style>\n",
       "<table border=\"1\" class=\"dataframe\">\n",
       "  <thead>\n",
       "    <tr style=\"text-align: right;\">\n",
       "      <th></th>\n",
       "      <th>Datetime</th>\n",
       "      <th>Tweet ID</th>\n",
       "      <th>Replies</th>\n",
       "      <th>Retweets</th>\n",
       "      <th>Likes</th>\n",
       "      <th>Hashtags</th>\n",
       "      <th>Tweets</th>\n",
       "    </tr>\n",
       "  </thead>\n",
       "  <tbody>\n",
       "    <tr>\n",
       "      <th>498</th>\n",
       "      <td>2021-09-30 23:33:44+00:00</td>\n",
       "      <td>1443720750209245186</td>\n",
       "      <td>2</td>\n",
       "      <td>3</td>\n",
       "      <td>12</td>\n",
       "      <td>[Bitcoin]</td>\n",
       "      <td>1</td>\n",
       "    </tr>\n",
       "    <tr>\n",
       "      <th>499</th>\n",
       "      <td>2021-09-30 23:33:40+00:00</td>\n",
       "      <td>1443720734715494413</td>\n",
       "      <td>0</td>\n",
       "      <td>1</td>\n",
       "      <td>1</td>\n",
       "      <td>[Airdrop, Trickledrip, Crypto, DeFi, Blickchai...</td>\n",
       "      <td>1</td>\n",
       "    </tr>\n",
       "    <tr>\n",
       "      <th>500</th>\n",
       "      <td>2021-09-30 23:33:39+00:00</td>\n",
       "      <td>1443720728336031752</td>\n",
       "      <td>0</td>\n",
       "      <td>0</td>\n",
       "      <td>0</td>\n",
       "      <td>[Bitcoin]</td>\n",
       "      <td>1</td>\n",
       "    </tr>\n",
       "  </tbody>\n",
       "</table>\n",
       "</div>"
      ],
      "text/plain": [
       "                     Datetime             Tweet ID  Replies  Retweets  Likes  \\\n",
       "498 2021-09-30 23:33:44+00:00  1443720750209245186        2         3     12   \n",
       "499 2021-09-30 23:33:40+00:00  1443720734715494413        0         1      1   \n",
       "500 2021-09-30 23:33:39+00:00  1443720728336031752        0         0      0   \n",
       "\n",
       "                                              Hashtags  Tweets  \n",
       "498                                          [Bitcoin]       1  \n",
       "499  [Airdrop, Trickledrip, Crypto, DeFi, Blickchai...       1  \n",
       "500                                          [Bitcoin]       1  "
      ]
     },
     "metadata": {},
     "output_type": "display_data"
    }
   ],
   "source": [
    "# Creating a dataframe from the tweets list above\n",
    "btc_tweets_df = pd.DataFrame(btc_tweets_list, columns=['Datetime', 'Tweet ID', 'Replies', 'Retweets', 'Likes', 'Hashtags', 'Tweets'])\n",
    "\n",
    "# Reformat the 'Datetime' to date time format\n",
    "btc_tweets_df['Datetime'] = pd.to_datetime(btc_tweets_df['Datetime'])\n",
    "\n",
    "# Set the index to 'Datetime'\n",
    "#tweets_df = tweets_df.set_index('Date')\n",
    "\n",
    "# Display first 5 entries from dataframe\n",
    "display(btc_tweets_df.head(3))\n",
    "display(btc_tweets_df.tail(3))"
   ]
  },
  {
   "cell_type": "code",
   "execution_count": 6,
   "id": "34fb9bad-a59d-4953-a17e-73f03415f671",
   "metadata": {},
   "outputs": [
    {
     "ename": "NameError",
     "evalue": "name 'btc_tweet_savepath' is not defined",
     "output_type": "error",
     "traceback": [
      "\u001b[0;31m---------------------------------------------------------------------------\u001b[0m",
      "\u001b[0;31mNameError\u001b[0m                                 Traceback (most recent call last)",
      "\u001b[0;32m/var/folders/qr/vdmryg852fjg7hwvkswngfgr0000gn/T/ipykernel_50709/522199812.py\u001b[0m in \u001b[0;36m<module>\u001b[0;34m\u001b[0m\n\u001b[1;32m      1\u001b[0m \u001b[0;31m# Export dataframe into a CSV\u001b[0m\u001b[0;34m\u001b[0m\u001b[0;34m\u001b[0m\u001b[0;34m\u001b[0m\u001b[0m\n\u001b[0;32m----> 2\u001b[0;31m \u001b[0mbtc_tweets_df\u001b[0m\u001b[0;34m.\u001b[0m\u001b[0mto_csv\u001b[0m\u001b[0;34m(\u001b[0m\u001b[0mbtc_tweet_savepath\u001b[0m\u001b[0;34m,\u001b[0m \u001b[0msep\u001b[0m\u001b[0;34m=\u001b[0m\u001b[0;34m','\u001b[0m\u001b[0;34m,\u001b[0m \u001b[0mindex\u001b[0m\u001b[0;34m=\u001b[0m\u001b[0;32mFalse\u001b[0m\u001b[0;34m)\u001b[0m\u001b[0;34m\u001b[0m\u001b[0;34m\u001b[0m\u001b[0m\n\u001b[0m",
      "\u001b[0;31mNameError\u001b[0m: name 'btc_tweet_savepath' is not defined"
     ]
    }
   ],
   "source": [
    "# Export dataframe into a CSV\n",
    "btc_tweets_df.to_csv(btc_tweet_savepath, sep=',', index=False)"
   ]
  },
  {
   "cell_type": "markdown",
   "id": "c40141f6-057e-4343-be9f-9b98493d05f8",
   "metadata": {},
   "source": [
    "### Notify user that this process is complete"
   ]
  },
  {
   "cell_type": "code",
   "execution_count": null,
   "id": "654b0f62-2319-4f73-b48e-7725b18dea94",
   "metadata": {},
   "outputs": [],
   "source": [
    "print('Tweet Scraping Complete!')"
   ]
  },
  {
   "cell_type": "code",
   "execution_count": null,
   "id": "c1688911-1b0d-4291-a8a3-678c15b2e23f",
   "metadata": {},
   "outputs": [],
   "source": []
  }
 ],
 "metadata": {
  "kernelspec": {
   "display_name": "py38",
   "language": "python",
   "name": "py38"
  },
  "language_info": {
   "codemirror_mode": {
    "name": "ipython",
    "version": 3
   },
   "file_extension": ".py",
   "mimetype": "text/x-python",
   "name": "python",
   "nbconvert_exporter": "python",
   "pygments_lexer": "ipython3",
   "version": "3.8.11"
  }
 },
 "nbformat": 4,
 "nbformat_minor": 5
}
