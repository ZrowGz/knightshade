{
 "cells": [
  {
   "cell_type": "code",
   "execution_count": 14,
   "metadata": {},
   "outputs": [],
   "source": [
    "# Import the Libraries\n",
    "import pandas as pd\n",
    "import sqlalchemy\n",
    "import snscrape.modules.twitter as sntwitter\n",
    "import os\n",
    "import json"
   ]
  },
  {
   "cell_type": "code",
   "execution_count": 3,
   "metadata": {},
   "outputs": [
    {
     "data": {
      "text/plain": [
       "Engine(sqlite:///data/tweet.db)"
      ]
     },
     "execution_count": 3,
     "metadata": {},
     "output_type": "execute_result"
    }
   ],
   "source": [
    "# Set up the SQL database\n",
    "\n",
    "# Create the sqlite database connection\n",
    "conn = 'sqlite:///data/tweet.db'\n",
    "\n",
    "# Create the database engine\n",
    "engine = sqlalchemy.create_engine(\n",
    "    conn\n",
    ")\n",
    "\n",
    "# Verify engine\n",
    "engine"
   ]
  },
  {
   "cell_type": "markdown",
   "metadata": {},
   "source": [
    "/Users/zrowgz/Desktop/fintech-workspace/p1/tweetdb.db"
   ]
  },
  {
   "cell_type": "code",
   "execution_count": 4,
   "metadata": {},
   "outputs": [
    {
     "name": "stderr",
     "output_type": "stream",
     "text": [
      "/var/folders/qr/vdmryg852fjg7hwvkswngfgr0000gn/T/ipykernel_40021/2211846100.py:14: SADeprecationWarning: The Engine.table_names() method is deprecated and will be removed in a future release.  Please refer to Inspector.get_table_names(). (deprecated since: 1.4)\n",
      "  engine.table_names()\n"
     ]
    },
    {
     "data": {
      "text/plain": [
       "['bitcoin_tweets']"
      ]
     },
     "execution_count": 4,
     "metadata": {},
     "output_type": "execute_result"
    }
   ],
   "source": [
    "# Create SQL Table\n",
    "create_table = \"\"\"\n",
    "CREATE TABLE bitcoin_tweets (\n",
    "    \"Datetime\" VARCHAR,\n",
    "    \"TweetID\" VARCHAR,\n",
    "    \"Text\" VARCHAR,\n",
    "    \"Username\" VARCHAR\n",
    ")\n",
    "\"\"\"\n",
    "\n",
    "engine.execute(create_table)\n",
    "\n",
    "# Verify table creation\n",
    "engine.table_names()"
   ]
  },
  {
   "cell_type": "markdown",
   "metadata": {
    "tags": []
   },
   "source": [
    "## Query Twitter by Hashtag Search\n",
    "Basic outline of code created by: "
   ]
  },
  {
   "cell_type": "code",
   "execution_count": null,
   "metadata": {},
   "outputs": [],
   "source": [
    "# This code works if it is in a .py file. But it isn't necessary since we can just pull the data we want directly to a dataframe...\n",
    "os.system(\"snscrape --jsonl --progress --max-results 500 --since 2021-05-01 twitter-hashtag \\\"bitcoin until:2021-05-31\\\" > tweets.json\")"
   ]
  },
  {
   "cell_type": "code",
   "execution_count": 20,
   "metadata": {},
   "outputs": [],
   "source": [
    "# Using TwitterSearchScraper to scrape data and append tweets to list\n",
    "maxTweets = 5\n",
    "\n",
    "# Create empty list to store the tweets\n",
    "tweets_list = []\n",
    "\n",
    "# Scrape the tweets\n",
    "for i,tweet in enumerate(sntwitter.TwitterHashtagScraper('bitcoin since:2021-05-01 until:2021-05-31').get_items()):\n",
    "    if i>50:\n",
    "        break\n",
    "    tweets_list.append([tweet.date, tweet.hashtags, tweet.likeCount, tweet.content, tweet.user.username])\n",
    "    \n",
    "# Creating a dataframe from the tweets list above\n",
    "tweets_df = pd.DataFrame(tweets_list, columns=['Datetime', 'Hashtags', 'Likes', 'Text', 'Username'])"
   ]
  },
  {
   "cell_type": "code",
   "execution_count": 24,
   "metadata": {},
   "outputs": [
    {
     "data": {
      "text/html": [
       "<div>\n",
       "<style scoped>\n",
       "    .dataframe tbody tr th:only-of-type {\n",
       "        vertical-align: middle;\n",
       "    }\n",
       "\n",
       "    .dataframe tbody tr th {\n",
       "        vertical-align: top;\n",
       "    }\n",
       "\n",
       "    .dataframe thead th {\n",
       "        text-align: right;\n",
       "    }\n",
       "</style>\n",
       "<table border=\"1\" class=\"dataframe\">\n",
       "  <thead>\n",
       "    <tr style=\"text-align: right;\">\n",
       "      <th></th>\n",
       "      <th>Hashtag</th>\n",
       "      <th>Likes</th>\n",
       "      <th>Text</th>\n",
       "      <th>Username</th>\n",
       "      <th>Date</th>\n",
       "    </tr>\n",
       "    <tr>\n",
       "      <th>Datetime</th>\n",
       "      <th></th>\n",
       "      <th></th>\n",
       "      <th></th>\n",
       "      <th></th>\n",
       "      <th></th>\n",
       "    </tr>\n",
       "  </thead>\n",
       "  <tbody>\n",
       "    <tr>\n",
       "      <th>2021-05-30 23:59:55+00:00</th>\n",
       "      <td>[Bitcoin]</td>\n",
       "      <td>55</td>\n",
       "      <td>Invertir en #Bitcoin es ganar la loteria en ca...</td>\n",
       "      <td>DiarioBitcoin</td>\n",
       "      <td>2021-05-30 23:59:55+00:00</td>\n",
       "    </tr>\n",
       "    <tr>\n",
       "      <th>2021-05-30 23:59:44+00:00</th>\n",
       "      <td>[bitcoin]</td>\n",
       "      <td>3</td>\n",
       "      <td>#bitcoin to $20k before next bull rally for CO...</td>\n",
       "      <td>bitcoinagile</td>\n",
       "      <td>2021-05-30 23:59:44+00:00</td>\n",
       "    </tr>\n",
       "    <tr>\n",
       "      <th>2021-05-30 23:59:41+00:00</th>\n",
       "      <td>[CORGIB, POLKABRIDGE, POLKADOT, DOGE, DOGECOIN...</td>\n",
       "      <td>7</td>\n",
       "      <td>$CORGIB is mooning! 🐶🚀\\n\\n#CORGIB #POLKABRIDGE...</td>\n",
       "      <td>thecorgibking</td>\n",
       "      <td>2021-05-30 23:59:41+00:00</td>\n",
       "    </tr>\n",
       "    <tr>\n",
       "      <th>2021-05-30 23:59:41+00:00</th>\n",
       "      <td>[Bitcoin]</td>\n",
       "      <td>0</td>\n",
       "      <td>PAYMENT FOR INVESTMENT #Bitcoin https://t.co/f...</td>\n",
       "      <td>Tradermarcus01</td>\n",
       "      <td>2021-05-30 23:59:41+00:00</td>\n",
       "    </tr>\n",
       "    <tr>\n",
       "      <th>2021-05-30 23:59:40+00:00</th>\n",
       "      <td>[Bitcoin]</td>\n",
       "      <td>0</td>\n",
       "      <td>@bitcoin_qr #Bitcoin</td>\n",
       "      <td>GhostCrypto8</td>\n",
       "      <td>2021-05-30 23:59:40+00:00</td>\n",
       "    </tr>\n",
       "  </tbody>\n",
       "</table>\n",
       "</div>"
      ],
      "text/plain": [
       "                                                                     Hashtag  \\\n",
       "Datetime                                                                       \n",
       "2021-05-30 23:59:55+00:00                                          [Bitcoin]   \n",
       "2021-05-30 23:59:44+00:00                                          [bitcoin]   \n",
       "2021-05-30 23:59:41+00:00  [CORGIB, POLKABRIDGE, POLKADOT, DOGE, DOGECOIN...   \n",
       "2021-05-30 23:59:41+00:00                                          [Bitcoin]   \n",
       "2021-05-30 23:59:40+00:00                                          [Bitcoin]   \n",
       "\n",
       "                           Likes  \\\n",
       "Datetime                           \n",
       "2021-05-30 23:59:55+00:00     55   \n",
       "2021-05-30 23:59:44+00:00      3   \n",
       "2021-05-30 23:59:41+00:00      7   \n",
       "2021-05-30 23:59:41+00:00      0   \n",
       "2021-05-30 23:59:40+00:00      0   \n",
       "\n",
       "                                                                        Text  \\\n",
       "Datetime                                                                       \n",
       "2021-05-30 23:59:55+00:00  Invertir en #Bitcoin es ganar la loteria en ca...   \n",
       "2021-05-30 23:59:44+00:00  #bitcoin to $20k before next bull rally for CO...   \n",
       "2021-05-30 23:59:41+00:00  $CORGIB is mooning! 🐶🚀\\n\\n#CORGIB #POLKABRIDGE...   \n",
       "2021-05-30 23:59:41+00:00  PAYMENT FOR INVESTMENT #Bitcoin https://t.co/f...   \n",
       "2021-05-30 23:59:40+00:00                               @bitcoin_qr #Bitcoin   \n",
       "\n",
       "                                 Username                      Date  \n",
       "Datetime                                                             \n",
       "2021-05-30 23:59:55+00:00   DiarioBitcoin 2021-05-30 23:59:55+00:00  \n",
       "2021-05-30 23:59:44+00:00    bitcoinagile 2021-05-30 23:59:44+00:00  \n",
       "2021-05-30 23:59:41+00:00   thecorgibking 2021-05-30 23:59:41+00:00  \n",
       "2021-05-30 23:59:41+00:00  Tradermarcus01 2021-05-30 23:59:41+00:00  \n",
       "2021-05-30 23:59:40+00:00    GhostCrypto8 2021-05-30 23:59:40+00:00  "
      ]
     },
     "metadata": {},
     "output_type": "display_data"
    },
    {
     "data": {
      "text/html": [
       "<div>\n",
       "<style scoped>\n",
       "    .dataframe tbody tr th:only-of-type {\n",
       "        vertical-align: middle;\n",
       "    }\n",
       "\n",
       "    .dataframe tbody tr th {\n",
       "        vertical-align: top;\n",
       "    }\n",
       "\n",
       "    .dataframe thead th {\n",
       "        text-align: right;\n",
       "    }\n",
       "</style>\n",
       "<table border=\"1\" class=\"dataframe\">\n",
       "  <thead>\n",
       "    <tr style=\"text-align: right;\">\n",
       "      <th></th>\n",
       "      <th>Hashtag</th>\n",
       "      <th>Likes</th>\n",
       "      <th>Text</th>\n",
       "      <th>Username</th>\n",
       "      <th>Date</th>\n",
       "    </tr>\n",
       "    <tr>\n",
       "      <th>Datetime</th>\n",
       "      <th></th>\n",
       "      <th></th>\n",
       "      <th></th>\n",
       "      <th></th>\n",
       "      <th></th>\n",
       "    </tr>\n",
       "  </thead>\n",
       "  <tbody>\n",
       "    <tr>\n",
       "      <th>2021-05-30 23:56:02+00:00</th>\n",
       "      <td>[bitcoin, IndiaWantsBitcoin, IndiaWantsBitcoin]</td>\n",
       "      <td>0</td>\n",
       "      <td>I just emailed my local MP to support progress...</td>\n",
       "      <td>ShaikhAftab63</td>\n",
       "      <td>2021-05-30 23:56:02+00:00</td>\n",
       "    </tr>\n",
       "    <tr>\n",
       "      <th>2021-05-30 23:56:01+00:00</th>\n",
       "      <td>[Bitcoin]</td>\n",
       "      <td>0</td>\n",
       "      <td>Morning routine. 🙏🏻☕️🍳📈#Bitcoin</td>\n",
       "      <td>retepjoe</td>\n",
       "      <td>2021-05-30 23:56:01+00:00</td>\n",
       "    </tr>\n",
       "    <tr>\n",
       "      <th>2021-05-30 23:56:01+00:00</th>\n",
       "      <td>[Bitcoin]</td>\n",
       "      <td>3</td>\n",
       "      <td>I own more #Bitcoin today than I did yesterday.</td>\n",
       "      <td>ExplainingBitc1</td>\n",
       "      <td>2021-05-30 23:56:01+00:00</td>\n",
       "    </tr>\n",
       "    <tr>\n",
       "      <th>2021-05-30 23:55:58+00:00</th>\n",
       "      <td>[Bitcoin, LTC]</td>\n",
       "      <td>1</td>\n",
       "      <td>@LitecoinForever I won't accumulate more LTC b...</td>\n",
       "      <td>Litecoin__Lord</td>\n",
       "      <td>2021-05-30 23:55:58+00:00</td>\n",
       "    </tr>\n",
       "    <tr>\n",
       "      <th>2021-05-30 23:55:58+00:00</th>\n",
       "      <td>[Bitcoin, fiat]</td>\n",
       "      <td>0</td>\n",
       "      <td>#Bitcoin how do we go from defense to offense?...</td>\n",
       "      <td>KarloDarwin</td>\n",
       "      <td>2021-05-30 23:55:58+00:00</td>\n",
       "    </tr>\n",
       "  </tbody>\n",
       "</table>\n",
       "</div>"
      ],
      "text/plain": [
       "                                                                   Hashtag  \\\n",
       "Datetime                                                                     \n",
       "2021-05-30 23:56:02+00:00  [bitcoin, IndiaWantsBitcoin, IndiaWantsBitcoin]   \n",
       "2021-05-30 23:56:01+00:00                                        [Bitcoin]   \n",
       "2021-05-30 23:56:01+00:00                                        [Bitcoin]   \n",
       "2021-05-30 23:55:58+00:00                                   [Bitcoin, LTC]   \n",
       "2021-05-30 23:55:58+00:00                                  [Bitcoin, fiat]   \n",
       "\n",
       "                           Likes  \\\n",
       "Datetime                           \n",
       "2021-05-30 23:56:02+00:00      0   \n",
       "2021-05-30 23:56:01+00:00      0   \n",
       "2021-05-30 23:56:01+00:00      3   \n",
       "2021-05-30 23:55:58+00:00      1   \n",
       "2021-05-30 23:55:58+00:00      0   \n",
       "\n",
       "                                                                        Text  \\\n",
       "Datetime                                                                       \n",
       "2021-05-30 23:56:02+00:00  I just emailed my local MP to support progress...   \n",
       "2021-05-30 23:56:01+00:00                    Morning routine. 🙏🏻☕️🍳📈#Bitcoin   \n",
       "2021-05-30 23:56:01+00:00    I own more #Bitcoin today than I did yesterday.   \n",
       "2021-05-30 23:55:58+00:00  @LitecoinForever I won't accumulate more LTC b...   \n",
       "2021-05-30 23:55:58+00:00  #Bitcoin how do we go from defense to offense?...   \n",
       "\n",
       "                                  Username                      Date  \n",
       "Datetime                                                              \n",
       "2021-05-30 23:56:02+00:00    ShaikhAftab63 2021-05-30 23:56:02+00:00  \n",
       "2021-05-30 23:56:01+00:00         retepjoe 2021-05-30 23:56:01+00:00  \n",
       "2021-05-30 23:56:01+00:00  ExplainingBitc1 2021-05-30 23:56:01+00:00  \n",
       "2021-05-30 23:55:58+00:00   Litecoin__Lord 2021-05-30 23:55:58+00:00  \n",
       "2021-05-30 23:55:58+00:00      KarloDarwin 2021-05-30 23:55:58+00:00  "
      ]
     },
     "metadata": {},
     "output_type": "display_data"
    }
   ],
   "source": [
    "# Creating a dataframe from the tweets list above\n",
    "tweets_df = pd.DataFrame(tweets_list, columns=['Datetime', 'Hashtag', 'Likes', 'Text', 'Username'])\n",
    "\n",
    "# Reformat the 'Datetime' to date time format\n",
    "tweets_df[\"Date\"] = pd.to_datetime(tweets_df['Datetime'])\n",
    "\n",
    "# Set the index to 'Datetime'\n",
    "tweets_df = tweets_df.set_index('Datetime')\n",
    "\n",
    "# Display first 5 entries from dataframe\n",
    "display(tweets_df.head())\n",
    "display(tweets_df.tail())"
   ]
  },
  {
   "cell_type": "code",
   "execution_count": null,
   "metadata": {},
   "outputs": [],
   "source": [
    "def roundDateTime(df_in, df_out, period):\n",
    "    "
   ]
  },
  {
   "cell_type": "code",
   "execution_count": null,
   "metadata": {},
   "outputs": [],
   "source": []
  },
  {
   "cell_type": "code",
   "execution_count": null,
   "metadata": {},
   "outputs": [],
   "source": []
  },
  {
   "cell_type": "code",
   "execution_count": null,
   "metadata": {},
   "outputs": [],
   "source": []
  },
  {
   "cell_type": "code",
   "execution_count": null,
   "metadata": {},
   "outputs": [],
   "source": [
    "# Insert data into tweetsdb sql database\n",
    "insert_data = \"\"\"\n",
    "    INSERT INTO bitcoin_tweets\n",
    "        (\"date\", \"id\", \"content\", \"username\")\n",
    "    VALUES (?, ?, ?, ?)\n",
    "    \"\"\"\n",
    "engine.execute(insert_data)"
   ]
  },
  {
   "cell_type": "code",
   "execution_count": null,
   "metadata": {},
   "outputs": [],
   "source": [
    "  insert_data = f\"\"\"\n",
    "        INSERT INTO bitcoin_tweets\n",
    "            (Datetime, TweetID, Text, Username)\n",
    "        VALUES ('{tweet.date}', '{tweet.id}', '{tweet.content}','{tweet.user.username}')\n",
    "        \"\"\"\n",
    "        engine.execute(insert_data)"
   ]
  },
  {
   "cell_type": "code",
   "execution_count": null,
   "metadata": {},
   "outputs": [],
   "source": [
    "# and then verify by reading the table back\n",
    "#pd.read_sql_table('bitcoin_tweets', con=engine)"
   ]
  },
  {
   "cell_type": "code",
   "execution_count": null,
   "metadata": {},
   "outputs": [],
   "source": [
    "# Convert the dataframe to a database\n",
    "tweets_df.to_sql(\n",
    "    'bitcoin_tweets', \n",
    "    engine, \n",
    "    index=False, \n",
    "    if_exists='replace'\n",
    ")"
   ]
  },
  {
   "cell_type": "code",
   "execution_count": null,
   "metadata": {},
   "outputs": [],
   "source": [
    "# Export dataframe into a CSV\n",
    "tweets_df1.to_csv('/data/text_tweets.csv', sep=',', index=False)"
   ]
  },
  {
   "cell_type": "code",
   "execution_count": null,
   "metadata": {},
   "outputs": [],
   "source": []
  },
  {
   "cell_type": "code",
   "execution_count": null,
   "metadata": {},
   "outputs": [],
   "source": []
  }
 ],
 "metadata": {
  "kernelspec": {
   "display_name": "py38",
   "language": "python",
   "name": "py38"
  },
  "language_info": {
   "codemirror_mode": {
    "name": "ipython",
    "version": 3
   },
   "file_extension": ".py",
   "mimetype": "text/x-python",
   "name": "python",
   "nbconvert_exporter": "python",
   "pygments_lexer": "ipython3",
   "version": "3.8.11"
  }
 },
 "nbformat": 4,
 "nbformat_minor": 4
}
